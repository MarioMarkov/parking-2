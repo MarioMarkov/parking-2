{
 "cells": [
  {
   "cell_type": "code",
   "execution_count": 1,
   "metadata": {},
   "outputs": [],
   "source": [
    "import os\n",
    "import cv2\n",
    "import time\n",
    "import torch\n",
    "from tqdm import tqdm\n",
    "import torch.nn as nn\n",
    "from PIL import Image\n",
    "import torch.optim as optim\n",
    "import xml.etree.ElementTree as ET\n",
    "from torch.optim import lr_scheduler\n",
    "from torch.utils.data import random_split\n",
    "from utils.image_utils import extract_bndbox_values\n",
    "from torchvision import datasets, models, transforms\n",
    "\n",
    "device = \"cuda\""
   ]
  },
  {
   "cell_type": "code",
   "execution_count": 2,
   "metadata": {},
   "outputs": [
    {
     "data": {
      "text/plain": [
       "{'spot0': {'xmin': 3292.0, 'ymin': 1850.0, 'xmax': 3528.0, 'ymax': 2008.0},\n",
       " 'spot1': {'xmin': 2981.0, 'ymin': 1912.0, 'xmax': 3217.0, 'ymax': 2070.0},\n",
       " 'spot2': {'xmin': 2656.0, 'ymin': 1955.0, 'xmax': 2892.0, 'ymax': 2113.0},\n",
       " 'spot3': {'xmin': 2223.0, 'ymin': 1990.0, 'xmax': 2459.0, 'ymax': 2148.0},\n",
       " 'spot4': {'xmin': 1847.0, 'ymin': 2025.0, 'xmax': 2083.0, 'ymax': 2183.0},\n",
       " 'spot5': {'xmin': 1452.0, 'ymin': 2033.0, 'xmax': 1688.0, 'ymax': 2191.0},\n",
       " 'spot6': {'xmin': 1050.0, 'ymin': 2051.0, 'xmax': 1286.0, 'ymax': 2209.0},\n",
       " 'spot7': {'xmin': 601.0, 'ymin': 2081.0, 'xmax': 837.0, 'ymax': 2239.0},\n",
       " 'spot8': {'xmin': 166.0, 'ymin': 2068.0, 'xmax': 402.0, 'ymax': 2226.0}}"
      ]
     },
     "execution_count": 2,
     "metadata": {},
     "output_type": "execute_result"
    }
   ],
   "source": [
    "# Check if annotations are parsed right \n",
    "tree = ET.parse(\"inference-label-studio/Annotations/7c738c45-20230609_155230.xml\")\n",
    "root = tree.getroot()\n",
    "bndbox_values = {}\n",
    "\n",
    "for i, obj in enumerate(root.findall('object')):\n",
    "    bndbox = obj.find('bndbox')\n",
    "    name = obj.find('name').text\n",
    "\n",
    "    xmin = float(bndbox.find('xmin').text)\n",
    "    ymin = float(bndbox.find('ymin').text)\n",
    "    xmax = float(bndbox.find('xmax').text)\n",
    "    ymax = float(bndbox.find('ymax').text)\n",
    "    bndbox_values[name + str(i)] = {'xmin': xmin, 'ymin': ymin, 'xmax': xmax, 'ymax': ymax}\n",
    "\n",
    "bndbox_values"
   ]
  },
  {
   "cell_type": "code",
   "execution_count": 3,
   "metadata": {},
   "outputs": [
    {
     "name": "stdout",
     "output_type": "stream",
     "text": [
      "Path:  inference-label-studio/images\\253e1d5b-20230609_160143.jpg\n",
      "Path:  inference-label-studio/images\\44146dba-9b1e7b8b-20230608_110037.jpg\n",
      "Path:  inference-label-studio/images\\55d78e5f-20230608_105630.jpg\n",
      "Path:  inference-label-studio/images\\7219e6a2-pk_lot.jpg\n",
      "Path:  inference-label-studio/images\\7c738c45-20230609_155230.jpg\n",
      "Path:  inference-label-studio/images\\830075f3-20230609_160427.jpg\n",
      "Path:  inference-label-studio/images\\8899e45e-20230610_084906.jpg\n",
      "Path:  inference-label-studio/images\\8c52cc71-20230608_110040.jpg\n",
      "Path:  inference-label-studio/images\\92fc6ed0-692159c7-Screenshot_2023-12-14_211832.png\n",
      "Path:  inference-label-studio/images\\9c6ba07f-20230608_105636.jpg\n",
      "Path:  inference-label-studio/images\\a8ee32be-20230609_160422.jpg\n",
      "Path:  inference-label-studio/images\\abfaec3a-20230608_110054.jpg\n",
      "Path:  inference-label-studio/images\\b8759a9e-20230608_110048.jpg\n",
      "Path:  inference-label-studio/images\\ca8c8b20-parking.jpg\n",
      "Path:  inference-label-studio/images\\cf810670-20230608_110037.jpg\n",
      "Path:  inference-label-studio/images\\d6f65c2a-20230609_155226.jpg\n",
      "Path:  inference-label-studio/images\\daf303f4-20230609_160404.jpg\n",
      "Path:  inference-label-studio/images\\e0425f6b-20230609_155151.jpg\n",
      "Path:  inference-label-studio/images\\ebde7602-pg_survailance.jpg\n"
     ]
    }
   ],
   "source": [
    "# Check if images can be loaded \n",
    "image_folder = \"inference-label-studio/images\"\n",
    "annotation_folder = \"inference-label-studio/Annotations\"\n",
    "\n",
    "# Loop over images\n",
    "for image_filename in os.listdir(image_folder):\n",
    "    image_path = os.path.join(image_folder, image_filename)\n",
    "\n",
    "    image_to_draw = cv2.imread(image_path)\n",
    "    full_image = Image.open(image_path)\n",
    "    \n",
    "    print(\"Path: \", image_path)\n",
    "    \n",
    "    if image_filename.endswith(\".jpg\") or image_filename.endswith(\".png\"):\n",
    "        annotation_filename = os.path.join(\n",
    "            annotation_folder,\n",
    "            image_filename.replace(\".jpg\", \".xml\").replace(\".png\", \".xml\"),\n",
    "        )\n",
    "\n",
    "    # Check if the annotation file exists\n",
    "    if os.path.isfile(annotation_filename):\n",
    "        bndbox_values = extract_bndbox_values(annotation_filename)\n",
    "\n",
    "    # crop patches\n",
    "    for key in bndbox_values:\n",
    "            values = bndbox_values[key]\n",
    "            # Extract coordinates from the bounding box\n",
    "            xmin = int(values[\"xmin\"])\n",
    "            ymin = int(values[\"ymin\"])\n",
    "            xmax = int(values[\"xmax\"])\n",
    "            ymax = int(values[\"ymax\"])\n",
    "            # Crop patch for the image\n",
    "            patch = full_image.crop((xmin, ymin, xmax, ymax))\n",
    "            #print(patch)\n",
    "            #img = Image.open(image_path)\n",
    "            #display(patch)\n",
    "            "
   ]
  },
  {
   "cell_type": "code",
   "execution_count": 53,
   "metadata": {},
   "outputs": [],
   "source": [
    "\n",
    "# define datasets transformers\n",
    "\n",
    "data_transforms = {\n",
    "        \"train\": transforms.Compose(\n",
    "            [\n",
    "                transforms.RandomResizedCrop(224),\n",
    "                transforms.RandomHorizontalFlip(),\n",
    "                transforms.ToTensor(),\n",
    "                transforms.Normalize([0.485, 0.456, 0.406], [0.229, 0.224, 0.225]),\n",
    "            ]\n",
    "        ),\n",
    "        \"val\": transforms.Compose(\n",
    "            [\n",
    "                transforms.Resize(256),\n",
    "                transforms.CenterCrop(224),\n",
    "                transforms.ToTensor(),\n",
    "                transforms.Normalize([0.485, 0.456, 0.406], [0.229, 0.224, 0.225]),\n",
    "            ]\n",
    "        ),\n",
    "    }\n",
    "\n",
    "\n",
    "pk_lot_dir  = \"pk_lot_data\"\n",
    "cnr_parking_dir  = \"cnr_parking_data\"\n",
    "\n",
    "# load datasets\n",
    "image_datasets_pk_lot = {\n",
    "    x: datasets.ImageFolder(os.path.join(pk_lot_dir, y), data_transforms[y])\n",
    "    for x,y  in zip([\"train\", \"val\"], [\"train\", \"val\"])\n",
    "}\n",
    "image_datasets_cnr_park = {\n",
    "    x: datasets.ImageFolder(os.path.join(cnr_parking_dir, y), data_transforms[y])\n",
    "    for x,y  in zip([\"train\", \"val\"], [\"train\", \"val\"])\n",
    "}\n",
    "\n",
    "# Make the validation sets 2 times smaller \n",
    "dataset_size_cnr_val = len(image_datasets_cnr_park[\"val\"])\n",
    "split_point = dataset_size_cnr_val // 2\n",
    "image_datasets_cnr_park[\"val\"], dataset_part2 = random_split(image_datasets_cnr_park[\"val\"], [split_point, dataset_size_cnr_val - split_point])\n",
    "\n",
    "\n",
    "dataset_size_pk_lot_val = len(image_datasets_pk_lot[\"val\"])\n",
    "split_point = dataset_size_pk_lot_val // 4\n",
    "image_datasets_pk_lot[\"val\"], dataset_part2 = random_split(image_datasets_pk_lot[\"val\"], [split_point, dataset_size_pk_lot_val - split_point])\n",
    "\n",
    "# Combine train and validation datasets to be from the 2 datasets\n",
    "train_dataset = torch.utils.data.ConcatDataset([image_datasets_pk_lot[\"train\"], image_datasets_cnr_park[\"train\"]])\n",
    "val_dataset = torch.utils.data.ConcatDataset([image_datasets_pk_lot[\"val\"], image_datasets_cnr_park[\"val\"]])"
   ]
  },
  {
   "cell_type": "code",
   "execution_count": 54,
   "metadata": {},
   "outputs": [
    {
     "name": "stdout",
     "output_type": "stream",
     "text": [
      "Size of train and test:  {'train': 618925, 'val': 34913}\n"
     ]
    }
   ],
   "source": [
    "# make data loaders\n",
    "dataloaders_cnr_park= {\n",
    "    \"train\": torch.utils.data.DataLoader(\n",
    "        image_datasets_cnr_park[\"train\"],\n",
    "        batch_size=64,\n",
    "        shuffle=True,\n",
    "        num_workers=0,\n",
    "    ),\n",
    "    \"val\": torch.utils.data.DataLoader(\n",
    "        image_datasets_cnr_park[\"val\"],\n",
    "        batch_size=64,\n",
    "        shuffle=True,\n",
    "        num_workers=0,\n",
    "    )\n",
    "    \n",
    "}\n",
    "\n",
    "dataloaders_pk_lot= {\n",
    "    \"train\": torch.utils.data.DataLoader(\n",
    "        image_datasets_pk_lot[\"train\"],\n",
    "        batch_size=64,\n",
    "        shuffle=True,\n",
    "        num_workers=0,\n",
    "    ),\n",
    "    \"val\": torch.utils.data.DataLoader(\n",
    "        image_datasets_pk_lot[\"val\"],\n",
    "        batch_size=64,\n",
    "        shuffle=True,\n",
    "        num_workers=0,\n",
    "    )\n",
    "    \n",
    "}\n",
    "\n",
    "\n",
    "dataloaders = {\n",
    "    \"train\": torch.utils.data.DataLoader(\n",
    "        train_dataset,\n",
    "        batch_size=32,\n",
    "        shuffle=True,\n",
    "        num_workers=0,\n",
    "    ),\n",
    "    \"val\": torch.utils.data.DataLoader(\n",
    "        val_dataset,\n",
    "        batch_size=32,\n",
    "        shuffle=True,\n",
    "        num_workers=0,\n",
    "    )\n",
    "    \n",
    "}\n",
    "dataset_sizes = {\"train\": len(train_dataset) , \"val\": len(val_dataset)}\n",
    "print(\"Size of train and test: \", dataset_sizes)"
   ]
  },
  {
   "cell_type": "code",
   "execution_count": 7,
   "metadata": {},
   "outputs": [
    {
     "name": "stdout",
     "output_type": "stream",
     "text": [
      "Model parameters:  4862273\n",
      "Model parameters:  32331\n"
     ]
    }
   ],
   "source": [
    "from utils.image_utils import mAlexNet\n",
    "\n",
    "model_type = \"m_alex\"\n",
    "\n",
    "# if model_type == \"m_alex\":\n",
    "alex_model = mAlexNet()\n",
    "alex_model.to(device)\n",
    "alex_model.load_state_dict(torch.load(\"./models/final_m_alex_net_both.pth\", weights_only = True)) \n",
    "# elif model_type == \"alex\":\n",
    "model = models.alexnet(weights=\"IMAGENET1K_V1\")\n",
    "model.classifier = nn.Sequential(\n",
    "    nn.Dropout(p=0.5, inplace=False),\n",
    "    nn.Linear(in_features=9216, out_features=256, bias=True),\n",
    "    nn.ReLU(inplace=True),\n",
    "    nn.Dropout(p=0.5, inplace=False),\n",
    "    nn.Linear(in_features=256, out_features=128, bias=True),\n",
    "    nn.ReLU(inplace=True),\n",
    "    nn.Linear(in_features=128, out_features=1, bias=True),\n",
    ")\n",
    "model.load_state_dict(torch.load(\"./models/final_alex_net_both.pth\", weights_only = True))\n",
    "model.to(device)\n",
    "\n",
    "print(\"Model parameters: \", sum(p.numel() for p in model.parameters() if p.requires_grad) )\n",
    "print(\"Alex model parameters: \", sum(p.numel() for p in alex_model.parameters() if p.requires_grad) )\n",
    "\n"
   ]
  },
  {
   "cell_type": "code",
   "execution_count": 21,
   "metadata": {},
   "outputs": [
    {
     "name": "stdout",
     "output_type": "stream",
     "text": [
      "Model parameters:  4862273\n"
     ]
    }
   ],
   "source": [
    "def load_model(filename, model_type):\n",
    "    if model_type == \"m_alex\":\n",
    "        model = mAlexNet()\n",
    "        model.to(device)\n",
    "        model.load_state_dict(torch.load(f\"./models/{filename}\", weights_only = True)) \n",
    "    elif model_type == \"alex\":\n",
    "        model = models.alexnet(weights=\"IMAGENET1K_V1\")\n",
    "        model.classifier = nn.Sequential(\n",
    "            nn.Dropout(p=0.5, inplace=False),\n",
    "            nn.Linear(in_features=9216, out_features=256, bias=True),\n",
    "            nn.ReLU(inplace=True),\n",
    "            nn.Dropout(p=0.5, inplace=False),\n",
    "            nn.Linear(in_features=256, out_features=128, bias=True),\n",
    "            nn.ReLU(inplace=True),\n",
    "            nn.Linear(in_features=128, out_features=1, bias=True),\n",
    "        )\n",
    "        model.load_state_dict(torch.load(\"./models/final_alex_net_both.pth\", weights_only = True))\n",
    "        model.to(device)\n",
    "\n",
    "    print(\"Model parameters: \", sum(p.numel() for p in model.parameters() if p.requires_grad) )\n",
    "    return model\n",
    "\n",
    "alex_model = load_model(filename=\"final_alex_net_cnr.pth\",model_type=\"alex\")\n",
    "\n",
    "\n"
   ]
  },
  {
   "cell_type": "code",
   "execution_count": 25,
   "metadata": {},
   "outputs": [
    {
     "name": "stdout",
     "output_type": "stream",
     "text": [
      "tensor([  9.3994,  11.1687,  -3.0027,  -7.4812,  -9.2655,  18.6632,  -3.1986,\n",
      "          2.6856,  10.6401,  -6.9936,  -0.6863, -10.9461,  -4.1949,  -6.0942,\n",
      "         -8.9680,  -3.8564,  -5.8303,  -5.7496,  -8.0030,  10.5291,  32.6932,\n",
      "         11.7911,   8.6380,  10.6126,   7.7609,  19.4778,  11.1222,  -2.7234,\n",
      "         -5.5657,  21.6302,   7.5554,   4.9666], device='cuda:0',\n",
      "       grad_fn=<SqueezeBackward1>)\n",
      "tensor([1, 1, 0, 0, 0, 1, 0, 0, 1, 0, 0, 0, 0, 0, 0, 0, 0, 0, 0, 1, 1, 1, 1, 1,\n",
      "        1, 1, 1, 0, 0, 1, 0, 1], device='cuda:0')\n",
      "10.925135612487793\n",
      "tensor(30, device='cuda:0')\n"
     ]
    }
   ],
   "source": [
    "# Testing model trainng loop\n",
    "inputs, labels  = next(iter(dataloaders[\"val\"]))\n",
    "criterion = nn.BCEWithLogitsLoss()\n",
    "#criterion = nn.CrossEntropyLoss()\n",
    "\n",
    "# Define optimizer for nn\n",
    "optimizer = optim.AdamW(model.parameters(),lr=0.001, fused=True)\n",
    "scheduler = lr_scheduler.StepLR(optimizer, step_size=7, gamma=0.1)\n",
    "\n",
    "inputs = inputs.to(device)\n",
    "labels = labels.to(device)\n",
    "\n",
    "running_corrects=0\n",
    "running_loss =0\n",
    "\n",
    "# zero the parameter gradients\n",
    "optimizer.zero_grad()\n",
    "\n",
    "# forward\n",
    "# track history if only in train\n",
    "with torch.set_grad_enabled(True):\n",
    "        outputs = model(inputs).squeeze(dim=1)\n",
    "        print(outputs)\n",
    "        print(labels)\n",
    "        #_, preds = torch.max(outputs, 1)\n",
    "        #preds = np.where(outputs > 0, 1, 0)\n",
    "        preds = (torch.sigmoid(outputs) > 0.5).float()\n",
    "\n",
    "        loss = criterion(outputs, labels.float())\n",
    "\n",
    "        # backward + optimize only if in training phase\n",
    "        \n",
    "        loss.backward()\n",
    "        optimizer.step()\n",
    "        \n",
    "# statistics\n",
    "running_loss += loss.item() * inputs.size(0)\n",
    "running_corrects += torch.sum(preds == labels.data)\n",
    "\n",
    "scheduler.step()\n",
    "print(running_loss) \n",
    "print(running_corrects) "
   ]
  },
  {
   "cell_type": "code",
   "execution_count": 11,
   "metadata": {},
   "outputs": [
    {
     "data": {
      "text/plain": [
       "60504"
      ]
     },
     "execution_count": 11,
     "metadata": {},
     "output_type": "execute_result"
    }
   ],
   "source": [
    "len(val_dataset)"
   ]
  },
  {
   "cell_type": "code",
   "execution_count": 15,
   "metadata": {},
   "outputs": [
    {
     "name": "stderr",
     "output_type": "stream",
     "text": [
      "100%|██████████| 292/292 [01:01<00:00,  4.72it/s]"
     ]
    },
    {
     "name": "stdout",
     "output_type": "stream",
     "text": [
      "Model accuracy: 96.214%\n"
     ]
    },
    {
     "name": "stderr",
     "output_type": "stream",
     "text": [
      "\n"
     ]
    }
   ],
   "source": [
    "# Testing model accuracy\n",
    "all = len(image_datasets_cnr_park[\"val\"])\n",
    "corrects =0 \n",
    "for (inputs, labels) in tqdm(dataloaders_cnr_park[\"val\"]):\n",
    "    inputs, labels = inputs.to(device), labels.to(device)\n",
    "    with torch.no_grad():\n",
    "            outputs = model(inputs)\n",
    "            preds = (torch.sigmoid(outputs) > 0.5).float()\n",
    "            preds = preds.squeeze().int()  # Remove dimensions of size 1\n",
    "            corrects += torch.sum(preds == labels).item()\n",
    "\n",
    "print(f\"Model accuracy: {round(corrects/all,5)*100}%\")\n",
    "\n",
    "\n"
   ]
  },
  {
   "cell_type": "code",
   "execution_count": 14,
   "metadata": {},
   "outputs": [],
   "source": [
    "def get_accuracy(model, dataset, dataloader):\n",
    "    all = len(dataset)\n",
    "    corrects =0 \n",
    "    for (inputs, labels) in tqdm(dataloader):\n",
    "        inputs, labels = inputs.to(device), labels.to(device)\n",
    "        with torch.no_grad():\n",
    "                outputs = model(inputs)\n",
    "                preds = (torch.sigmoid(outputs) > 0.5).float()\n",
    "                preds = preds.squeeze().int()  # Remove dimensions of size 1\n",
    "                corrects += torch.sum(preds == labels).item()\n",
    "\n",
    "    return round(corrects/all,5)*100"
   ]
  },
  {
   "cell_type": "code",
   "execution_count": 18,
   "metadata": {},
   "outputs": [
    {
     "name": "stderr",
     "output_type": "stream",
     "text": [
      "100%|██████████| 146/146 [00:52<00:00,  2.80it/s]"
     ]
    },
    {
     "name": "stdout",
     "output_type": "stream",
     "text": [
      "Accuracy is 94.337%\n"
     ]
    },
    {
     "name": "stderr",
     "output_type": "stream",
     "text": [
      "\n"
     ]
    }
   ],
   "source": [
    "accuracy = get_accuracy(model, image_datasets_cnr_park[\"val\"], dataloaders_cnr_park[\"val\"])\n",
    "print(f\"Accuracy is {accuracy}%\")"
   ]
  },
  {
   "cell_type": "code",
   "execution_count": 28,
   "metadata": {},
   "outputs": [],
   "source": [
    "m_alex_files = [\"final_m_alex_net_both.pth\",\n",
    "    \"final_m_alex_net_cnr.pth\",\n",
    "    \"final_m_alex_net_pk.pth\",\n",
    "    \"m_alex_net_both_best_acc.pth\",\n",
    "    \"m_alex_net_cnr_best_acc.pth\",\n",
    "    \"m_alex_net_combined.pth\",\n",
    "    \"m_alex_net_pk_best_acc.pth\"]\n",
    "\n",
    "alex_files = [\n",
    "    \"alex_net_both_best_acc.pth\",\n",
    "    \"alex_net_cnr_best_acc.pth\",\n",
    "    \"final_alex_net_both.pth\",\n",
    "    \"final_alex_net_cnr.pth\",\n",
    "]"
   ]
  },
  {
   "cell_type": "code",
   "execution_count": 22,
   "metadata": {},
   "outputs": [],
   "source": [
    "def load_model(filename, model_type):\n",
    "    if model_type == \"m_alex\":\n",
    "        model = mAlexNet()\n",
    "        model.to(device)\n",
    "        model.load_state_dict(torch.load(f\"./models/{filename}\", weights_only = True)) \n",
    "    elif model_type == \"alex\":\n",
    "        model = models.alexnet(weights=\"IMAGENET1K_V1\")\n",
    "        model.classifier = nn.Sequential(\n",
    "            nn.Dropout(p=0.5, inplace=False),\n",
    "            nn.Linear(in_features=9216, out_features=256, bias=True),\n",
    "            nn.ReLU(inplace=True),\n",
    "            nn.Dropout(p=0.5, inplace=False),\n",
    "            nn.Linear(in_features=256, out_features=128, bias=True),\n",
    "            nn.ReLU(inplace=True),\n",
    "            nn.Linear(in_features=128, out_features=1, bias=True),\n",
    "        )\n",
    "        model.load_state_dict(torch.load(\"./models/final_alex_net_both.pth\", weights_only = True))\n",
    "        model.to(device)\n",
    "\n",
    "    print(\"Model parameters: \", sum(p.numel() for p in model.parameters() if p.requires_grad) )\n",
    "    \n",
    "    return model"
   ]
  },
  {
   "cell_type": "code",
   "execution_count": 55,
   "metadata": {},
   "outputs": [
    {
     "name": "stdout",
     "output_type": "stream",
     "text": [
      "Model parameters:  32331\n"
     ]
    },
    {
     "name": "stderr",
     "output_type": "stream",
     "text": [
      "100%|██████████| 400/400 [06:59<00:00,  1.05s/it]\n"
     ]
    },
    {
     "name": "stdout",
     "output_type": "stream",
     "text": [
      "Accuracy of final_m_alex_net_both is 98.707%\n",
      "Model parameters:  32331\n"
     ]
    },
    {
     "name": "stderr",
     "output_type": "stream",
     "text": [
      "100%|██████████| 400/400 [02:04<00:00,  3.21it/s]\n"
     ]
    },
    {
     "name": "stdout",
     "output_type": "stream",
     "text": [
      "Accuracy of final_m_alex_net_cnr is 59.211000000000006%\n",
      "Model parameters:  32331\n"
     ]
    },
    {
     "name": "stderr",
     "output_type": "stream",
     "text": [
      "100%|██████████| 400/400 [02:50<00:00,  2.34it/s]\n"
     ]
    },
    {
     "name": "stdout",
     "output_type": "stream",
     "text": [
      "Accuracy of final_m_alex_net_pk is 98.726%\n",
      "Model parameters:  32331\n"
     ]
    },
    {
     "name": "stderr",
     "output_type": "stream",
     "text": [
      "100%|██████████| 400/400 [02:36<00:00,  2.55it/s]\n"
     ]
    },
    {
     "name": "stdout",
     "output_type": "stream",
     "text": [
      "Accuracy of m_alex_net_both_best_acc is 98.707%\n",
      "Model parameters:  32331\n"
     ]
    },
    {
     "name": "stderr",
     "output_type": "stream",
     "text": [
      "100%|██████████| 400/400 [01:39<00:00,  4.02it/s]\n"
     ]
    },
    {
     "name": "stdout",
     "output_type": "stream",
     "text": [
      "Accuracy of m_alex_net_cnr_best_acc is 69.18299999999999%\n",
      "Model parameters:  32331\n"
     ]
    },
    {
     "name": "stderr",
     "output_type": "stream",
     "text": [
      "100%|██████████| 400/400 [02:10<00:00,  3.07it/s]\n"
     ]
    },
    {
     "name": "stdout",
     "output_type": "stream",
     "text": [
      "Accuracy of m_alex_net_combined is 98.941%\n",
      "Model parameters:  32331\n"
     ]
    },
    {
     "name": "stderr",
     "output_type": "stream",
     "text": [
      "100%|██████████| 400/400 [01:33<00:00,  4.26it/s]"
     ]
    },
    {
     "name": "stdout",
     "output_type": "stream",
     "text": [
      "Accuracy of m_alex_net_pk_best_acc is 99.187%\n"
     ]
    },
    {
     "name": "stderr",
     "output_type": "stream",
     "text": [
      "\n"
     ]
    }
   ],
   "source": [
    "m_alex_accuracies = {}\n",
    "\n",
    "for model_file in m_alex_files:\n",
    "    m_alex_model = load_model(filename=model_file, model_type=\"m_alex\") # type: ignore\n",
    "    accuracy = get_accuracy(m_alex_model, image_datasets_pk_lot[\"val\"], dataloaders_pk_lot[\"val\"])\n",
    "    print(f\"Accuracy of {model_file.split('.')[0]} is {accuracy}%\")\n",
    "    m_alex_accuracies[model_file.split(\".\")[0]] = accuracy\n"
   ]
  },
  {
   "cell_type": "code",
   "execution_count": 30,
   "metadata": {},
   "outputs": [
    {
     "name": "stdout",
     "output_type": "stream",
     "text": [
      "Model parameters:  4862273\n"
     ]
    },
    {
     "name": "stderr",
     "output_type": "stream",
     "text": [
      "100%|██████████| 146/146 [00:46<00:00,  3.15it/s]\n"
     ]
    },
    {
     "name": "stdout",
     "output_type": "stream",
     "text": [
      "Accuracy of alex_net_both_best_acc is 93.961%\n",
      "Model parameters:  4862273\n"
     ]
    },
    {
     "name": "stderr",
     "output_type": "stream",
     "text": [
      "100%|██████████| 146/146 [00:46<00:00,  3.15it/s]\n"
     ]
    },
    {
     "name": "stdout",
     "output_type": "stream",
     "text": [
      "Accuracy of alex_net_cnr_best_acc is 94.144%\n",
      "Model parameters:  4862273\n"
     ]
    },
    {
     "name": "stderr",
     "output_type": "stream",
     "text": [
      "100%|██████████| 146/146 [00:39<00:00,  3.74it/s]\n"
     ]
    },
    {
     "name": "stdout",
     "output_type": "stream",
     "text": [
      "Accuracy of final_alex_net_both is 94.05799999999999%\n",
      "Model parameters:  4862273\n"
     ]
    },
    {
     "name": "stderr",
     "output_type": "stream",
     "text": [
      "100%|██████████| 146/146 [00:38<00:00,  3.75it/s]\n"
     ]
    },
    {
     "name": "stdout",
     "output_type": "stream",
     "text": [
      "Accuracy of final_alex_net_cnr is 94.272%\n"
     ]
    }
   ],
   "source": [
    "alex_accuracies = {}\n",
    "\n",
    "for model_file in alex_files:\n",
    "    alex_model = load_model(filename=model_file, model_type=\"alex\") # type: ignore\n",
    "    accuracy = get_accuracy(alex_model, image_datasets_cnr_park[\"val\"], dataloaders_cnr_park[\"val\"])\n",
    "    print(f\"Accuracy of {model_file.split('.')[0]} is {accuracy}%\")\n",
    "    alex_accuracies[model_file.split(\".\")[0]] = accuracy"
   ]
  },
  {
   "cell_type": "code",
   "execution_count": 33,
   "metadata": {},
   "outputs": [
    {
     "data": {
      "text/plain": [
       "{'alex_net_both_best_acc': 93.961,\n",
       " 'alex_net_cnr_best_acc': 94.144,\n",
       " 'final_alex_net_both': 94.05799999999999,\n",
       " 'final_alex_net_cnr': 94.272}"
      ]
     },
     "execution_count": 33,
     "metadata": {},
     "output_type": "execute_result"
    }
   ],
   "source": [
    "alex_accuracies"
   ]
  },
  {
   "cell_type": "code",
   "execution_count": 47,
   "metadata": {},
   "outputs": [
    {
     "data": {
      "image/png": "[encoded data removed]",
      "text/plain": [
       "<Figure size 800x500 with 1 Axes>"
      ]
     },
     "metadata": {},
     "output_type": "display_data"
    }
   ],
   "source": [
    "import matplotlib.pyplot as plt\n",
    "import numpy as np\n",
    "\n",
    "# Extracting file names and accuracies from the dictionary\n",
    "# Extracting file names and accuracies from the dictionary\n",
    "file_names = list(alex_accuracies.keys())\n",
    "accuracy_values = list(alex_accuracies.values())\n",
    "accuracy_values = [round(value, 2) for value in accuracy_values]\n",
    "\n",
    "\n",
    "# Plotting the horizontal bar graph with slimmer bars and pale blue color\n",
    "plt.figure(figsize=(8, 5))  # Adjust the figure size as needed\n",
    "bars = plt.barh(file_names, accuracy_values, color='lightblue', height=0.6)  # Adjust height for slimmer bars\n",
    "\n",
    "# Adding labels and title\n",
    "plt.xlabel('Accuracy (%)')\n",
    "plt.ylabel('File Names (Models)')\n",
    "plt.title('Accuracies for the Alex Net Model')\n",
    "\n",
    "# Adjust the x-axis limits to start from 80%\n",
    "plt.xlim(80, 100)\n",
    "\n",
    "# Displaying the numerical values on the bars\n",
    "for bar, value in zip(bars, accuracy_values):\n",
    "    plt.text(bar.get_width() + 0.5, bar.get_y() + bar.get_height()/2, f'{value}%', va='center', fontsize=10)\n",
    "\n",
    "# Display the plot\n",
    "plt.tight_layout()  # Adjust layout for better spacing\n",
    "plt.show()"
   ]
  },
  {
   "cell_type": "code",
   "execution_count": 48,
   "metadata": {},
   "outputs": [
    {
     "data": {
      "image/png": "[encoded data removed]",
      "text/plain": [
       "<Figure size 800x500 with 1 Axes>"
      ]
     },
     "metadata": {},
     "output_type": "display_data"
    }
   ],
   "source": [
    "import matplotlib.pyplot as plt\n",
    "import numpy as np\n",
    "\n",
    "# Extracting file names and accuracies from the dictionary\n",
    "# Extracting file names and accuracies from the dictionary\n",
    "file_names = list(m_alex_accuracies.keys())\n",
    "accuracy_values = list(m_alex_accuracies.values())\n",
    "accuracy_values = [round(value, 2) for value in accuracy_values]\n",
    "\n",
    "\n",
    "# Plotting the horizontal bar graph with slimmer bars and pale blue color\n",
    "plt.figure(figsize=(8, 5))  # Adjust the figure size as needed\n",
    "bars = plt.barh(file_names, accuracy_values, color='lightblue', height=0.6)  # Adjust height for slimmer bars\n",
    "\n",
    "# Adding labels and title\n",
    "plt.xlabel('Accuracy (%)')\n",
    "plt.ylabel('File Names (Models)')\n",
    "plt.title('Accuracies for the m_Alex Net Model')\n",
    "\n",
    "# Adjust the x-axis limits to start from 80%\n",
    "plt.xlim(50, 100)\n",
    "\n",
    "# Displaying the numerical values on the bars\n",
    "for bar, value in zip(bars, accuracy_values):\n",
    "    plt.text(bar.get_width(), bar.get_y() + bar.get_height()/2, f'{value}%', va='center', fontsize=10)\n",
    "\n",
    "# Display the plot\n",
    "plt.tight_layout()  # Adjust layout for better spacing\n",
    "plt.show()"
   ]
  }
 ],
 "metadata": {
  "kernelspec": {
   "display_name": "parking",
   "language": "python",
   "name": "python3"
  },
  "language_info": {
   "codemirror_mode": {
    "name": "ipython",
    "version": 3
   },
   "file_extension": ".py",
   "mimetype": "text/x-python",
   "name": "python",
   "nbconvert_exporter": "python",
   "pygments_lexer": "ipython3",
   "version": "3.11.9"
  }
 },
 "nbformat": 4,
 "nbformat_minor": 2
}
