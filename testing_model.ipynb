{
 "cells": [
  {
   "cell_type": "code",
   "execution_count": 1,
   "metadata": {},
   "outputs": [
    {
     "name": "stderr",
     "output_type": "stream",
     "text": [
      "f:\\Users\\mario\\.conda\\envs\\parking\\Lib\\site-packages\\tqdm\\auto.py:21: TqdmWarning: IProgress not found. Please update jupyter and ipywidgets. See https://ipywidgets.readthedocs.io/en/stable/user_install.html\n",
      "  from .autonotebook import tqdm as notebook_tqdm\n"
     ]
    }
   ],
   "source": [
    "import torch\n",
    "import time\n",
    "import os\n",
    "from tempfile import TemporaryDirectory\n",
    "from tqdm import tqdm\n",
    "import torch.optim as optim\n",
    "from torch.optim import lr_scheduler\n",
    "import torch.nn as nn\n",
    "from torchvision import datasets, models, transforms\n",
    "from torch.utils.data import DataLoader, random_split\n",
    "\n",
    "device = \"cuda\""
   ]
  },
  {
   "cell_type": "code",
   "execution_count": 4,
   "metadata": {},
   "outputs": [
    {
     "data": {
      "text/plain": [
       "{'spot0': {'xmin': 131.0, 'ymin': 2367.0, 'xmax': 1176.0, 'ymax': 2955.0},\n",
       " 'spot1': {'xmin': 1259.0, 'ymin': 2097.0, 'xmax': 2304.0, 'ymax': 2685.0},\n",
       " 'spot2': {'xmin': 2339.0, 'ymin': 2035.0, 'xmax': 3093.0, 'ymax': 2464.0},\n",
       " 'spot3': {'xmin': 2969.0, 'ymin': 1806.0, 'xmax': 3744.0, 'ymax': 2242.0},\n",
       " 'spot4': {'xmin': 3620.0, 'ymin': 1668.0, 'xmax': 4395.0, 'ymax': 2104.0}}"
      ]
     },
     "execution_count": 4,
     "metadata": {},
     "output_type": "execute_result"
    }
   ],
   "source": [
    "tree = ET.parse(\"inference_label_studio\\Annotations\\9b1e7b8b-20230608_110037.xml\")\n",
    "root = tree.getroot()\n",
    "bndbox_values = {}\n",
    "\n",
    "for i, obj in enumerate(root.findall('object')):\n",
    "    bndbox = obj.find('bndbox')\n",
    "    name = obj.find('name').text\n",
    "\n",
    "    xmin = float(bndbox.find('xmin').text)\n",
    "    ymin = float(bndbox.find('ymin').text)\n",
    "    xmax = float(bndbox.find('xmax').text)\n",
    "    ymax = float(bndbox.find('ymax').text)\n",
    "    bndbox_values[name + str(i)] = {'xmin': xmin, 'ymin': ymin, 'xmax': xmax, 'ymax': ymax}\n",
    "\n",
    "bndbox_values"
   ]
  },
  {
   "cell_type": "code",
   "execution_count": 2,
   "metadata": {},
   "outputs": [
    {
     "name": "stdout",
     "output_type": "stream",
     "text": [
      "Path:  inference_label_studio\\images\\692159c7-Screenshot_2023-12-14_211832.jpg\n",
      "<PIL.Image.Image image mode=RGBA size=165x234 at 0x1DBC0A6CCD0>\n"
     ]
    },
    {
     "ename": "AttributeError",
     "evalue": "'Image' object has no attribute 'read'",
     "output_type": "error",
     "traceback": [
      "\u001b[1;31m---------------------------------------------------------------------------\u001b[0m",
      "\u001b[1;31mAttributeError\u001b[0m                            Traceback (most recent call last)",
      "\u001b[1;32mf:\\Users\\mario\\Desktop\\MLPython\\parking-spot-detection\\testing_model.ipynb Cell 3\u001b[0m line \u001b[0;36m3\n\u001b[0;32m     <a href='vscode-notebook-cell:/f%3A/Users/mario/Desktop/MLPython/parking-spot-detection/testing_model.ipynb#W2sZmlsZQ%3D%3D?line=30'>31</a>\u001b[0m patch \u001b[39m=\u001b[39m full_image\u001b[39m.\u001b[39mcrop((xmin, ymin, xmax, ymax))\n\u001b[0;32m     <a href='vscode-notebook-cell:/f%3A/Users/mario/Desktop/MLPython/parking-spot-detection/testing_model.ipynb#W2sZmlsZQ%3D%3D?line=31'>32</a>\u001b[0m \u001b[39mprint\u001b[39m(patch)\n\u001b[1;32m---> <a href='vscode-notebook-cell:/f%3A/Users/mario/Desktop/MLPython/parking-spot-detection/testing_model.ipynb#W2sZmlsZQ%3D%3D?line=32'>33</a>\u001b[0m img \u001b[39m=\u001b[39m Image\u001b[39m.\u001b[39;49mopen(patch)\n",
      "File \u001b[1;32m~\\AppData\\Roaming\\Python\\Python311\\site-packages\\PIL\\Image.py:3252\u001b[0m, in \u001b[0;36mopen\u001b[1;34m(fp, mode, formats)\u001b[0m\n\u001b[0;32m   3249\u001b[0m     fp \u001b[39m=\u001b[39m io\u001b[39m.\u001b[39mBytesIO(fp\u001b[39m.\u001b[39mread())\n\u001b[0;32m   3250\u001b[0m     exclusive_fp \u001b[39m=\u001b[39m \u001b[39mTrue\u001b[39;00m\n\u001b[1;32m-> 3252\u001b[0m prefix \u001b[39m=\u001b[39m fp\u001b[39m.\u001b[39;49mread(\u001b[39m16\u001b[39m)\n\u001b[0;32m   3254\u001b[0m preinit()\n\u001b[0;32m   3256\u001b[0m accept_warnings \u001b[39m=\u001b[39m []\n",
      "\u001b[1;31mAttributeError\u001b[0m: 'Image' object has no attribute 'read'"
     ]
    }
   ],
   "source": [
    "image_folder = \"inference_label_studio\\images\"\n",
    "annotation_folder = \"inference_label_studio\\Annotations\"\n",
    "\n",
    "import cv2\n",
    "from utils.image_utils import extract_bndbox_values\n",
    "\n",
    "from PIL import Image\n",
    "for image_filename in os.listdir(image_folder):\n",
    "    image_path = os.path.join(image_folder, image_filename)\n",
    "\n",
    "    image_to_draw = cv2.imread(image_path)\n",
    "    print(\"Path: \", image_path)\n",
    "    full_image = Image.open(image_path)\n",
    "    if image_filename.endswith(\".jpg\") or image_filename.endswith(\".png\"):\n",
    "        annotation_filename = os.path.join(\n",
    "            annotation_folder,\n",
    "            image_filename.replace(\".jpg\", \".xml\").replace(\".png\", \".xml\"),\n",
    "        )\n",
    "\n",
    "    # Check if the annotation file exists\n",
    "    if os.path.isfile(annotation_filename):\n",
    "        bndbox_values = extract_bndbox_values(annotation_filename)\n",
    "    for key in bndbox_values:\n",
    "            values = bndbox_values[key]\n",
    "            # Extract coordinates from the bounding box\n",
    "            xmin = int(values[\"xmin\"])\n",
    "            ymin = int(values[\"ymin\"])\n",
    "            xmax = int(values[\"xmax\"])\n",
    "            ymax = int(values[\"ymax\"])\n",
    "            # Crop patch for the image\n",
    "            patch = full_image.crop((xmin, ymin, xmax, ymax))\n",
    "            print(patch)\n",
    "            #img = Image.open(patch)\n",
    "            "
   ]
  },
  {
   "cell_type": "code",
   "execution_count": 3,
   "metadata": {},
   "outputs": [],
   "source": [
    "pk_lot_dir  = \"pk_lot_data\"\n",
    "cnr_parking_dir  = \"cnr_parking_data\"\n",
    "\n",
    "data_transforms = {\n",
    "        \"train\": transforms.Compose(\n",
    "            [\n",
    "                transforms.RandomResizedCrop(224),\n",
    "                transforms.RandomHorizontalFlip(),\n",
    "                transforms.ToTensor(),\n",
    "                transforms.Normalize([0.485, 0.456, 0.406], [0.229, 0.224, 0.225]),\n",
    "            ]\n",
    "        ),\n",
    "        \"val\": transforms.Compose(\n",
    "            [\n",
    "                transforms.Resize(256),\n",
    "                transforms.CenterCrop(224),\n",
    "                transforms.ToTensor(),\n",
    "                transforms.Normalize([0.485, 0.456, 0.406], [0.229, 0.224, 0.225]),\n",
    "            ]\n",
    "        ),\n",
    "    }\n",
    "\n",
    "image_datasets_pk_lot = {\n",
    "    x: datasets.ImageFolder(os.path.join(pk_lot_dir, y), data_transforms[y])\n",
    "    for x,y  in zip([\"train\", \"val\"], [\"train\", \"val\"])\n",
    "}\n",
    "image_datasets_cnr_park = {\n",
    "    x: datasets.ImageFolder(os.path.join(cnr_parking_dir, y), data_transforms[y])\n",
    "    for x,y  in zip([\"train\", \"val\"], [\"train\", \"val\"])\n",
    "}"
   ]
  },
  {
   "cell_type": "code",
   "execution_count": 4,
   "metadata": {},
   "outputs": [],
   "source": [
    "dataset_size_cnr_val = len(image_datasets_cnr_park[\"val\"])\n",
    "split_point = dataset_size_cnr_val // 2\n",
    "image_datasets_cnr_park[\"val\"], dataset_part2 = random_split(image_datasets_cnr_park[\"val\"], [split_point, dataset_size_cnr_val - split_point])\n",
    "\n",
    "\n",
    "dataset_size_pk_lot_val = len(image_datasets_pk_lot[\"val\"])\n",
    "split_point = dataset_size_pk_lot_val // 2\n",
    "image_datasets_pk_lot[\"val\"], dataset_part2 = random_split(image_datasets_pk_lot[\"val\"], [split_point, dataset_size_pk_lot_val - split_point])\n"
   ]
  },
  {
   "cell_type": "code",
   "execution_count": 5,
   "metadata": {},
   "outputs": [],
   "source": [
    "train_dataset = torch.utils.data.ConcatDataset([image_datasets_pk_lot[\"train\"], image_datasets_cnr_park[\"train\"]])\n",
    "val_dataset = torch.utils.data.ConcatDataset([image_datasets_pk_lot[\"val\"], image_datasets_cnr_park[\"val\"]])"
   ]
  },
  {
   "cell_type": "code",
   "execution_count": 6,
   "metadata": {},
   "outputs": [],
   "source": [
    "dataloaders_cnr_park= {\n",
    "    \"train\": torch.utils.data.DataLoader(\n",
    "        image_datasets_cnr_park[\"train\"],\n",
    "        batch_size=32,\n",
    "        shuffle=True,\n",
    "        num_workers=0,\n",
    "    ),\n",
    "    \"val\": torch.utils.data.DataLoader(\n",
    "        image_datasets_cnr_park[\"val\"],\n",
    "        batch_size=32,\n",
    "        shuffle=True,\n",
    "        num_workers=0,\n",
    "    )\n",
    "    \n",
    "}\n",
    "\n",
    "\n",
    "\n",
    "dataloaders= {\n",
    "    \"train\": torch.utils.data.DataLoader(\n",
    "        train_dataset,\n",
    "        batch_size=32,\n",
    "        shuffle=True,\n",
    "        num_workers=0,\n",
    "    ),\n",
    "    \"val\": torch.utils.data.DataLoader(\n",
    "        val_dataset,\n",
    "        batch_size=32,\n",
    "        shuffle=True,\n",
    "        num_workers=0,\n",
    "    )\n",
    "    \n",
    "}\n",
    "\n"
   ]
  },
  {
   "cell_type": "code",
   "execution_count": 7,
   "metadata": {},
   "outputs": [
    {
     "data": {
      "text/plain": [
       "{'train': <torch.utils.data.dataloader.DataLoader at 0x1dbc0c4c090>,\n",
       " 'val': <torch.utils.data.dataloader.DataLoader at 0x1dbbfe94ad0>}"
      ]
     },
     "execution_count": 7,
     "metadata": {},
     "output_type": "execute_result"
    }
   ],
   "source": [
    "dataloaders_cnr_park"
   ]
  },
  {
   "cell_type": "code",
   "execution_count": 8,
   "metadata": {},
   "outputs": [
    {
     "name": "stdout",
     "output_type": "stream",
     "text": [
      "Size of train and test:  {'train': 618925, 'val': 60504}\n"
     ]
    }
   ],
   "source": [
    "dataset_sizes = {\"train\": len(train_dataset) , \"val\": len(val_dataset)}\n",
    "print(\"Size of train and test: \", dataset_sizes)"
   ]
  },
  {
   "cell_type": "code",
   "execution_count": 11,
   "metadata": {},
   "outputs": [
    {
     "data": {
      "text/plain": [
       "AlexNet(\n",
       "  (features): Sequential(\n",
       "    (0): Conv2d(3, 64, kernel_size=(11, 11), stride=(4, 4), padding=(2, 2))\n",
       "    (1): ReLU(inplace=True)\n",
       "    (2): MaxPool2d(kernel_size=3, stride=2, padding=0, dilation=1, ceil_mode=False)\n",
       "    (3): Conv2d(64, 192, kernel_size=(5, 5), stride=(1, 1), padding=(2, 2))\n",
       "    (4): ReLU(inplace=True)\n",
       "    (5): MaxPool2d(kernel_size=3, stride=2, padding=0, dilation=1, ceil_mode=False)\n",
       "    (6): Conv2d(192, 384, kernel_size=(3, 3), stride=(1, 1), padding=(1, 1))\n",
       "    (7): ReLU(inplace=True)\n",
       "    (8): Conv2d(384, 256, kernel_size=(3, 3), stride=(1, 1), padding=(1, 1))\n",
       "    (9): ReLU(inplace=True)\n",
       "    (10): Conv2d(256, 256, kernel_size=(3, 3), stride=(1, 1), padding=(1, 1))\n",
       "    (11): ReLU(inplace=True)\n",
       "    (12): MaxPool2d(kernel_size=3, stride=2, padding=0, dilation=1, ceil_mode=False)\n",
       "  )\n",
       "  (avgpool): AdaptiveAvgPool2d(output_size=(6, 6))\n",
       "  (classifier): Sequential(\n",
       "    (0): Dropout(p=0.5, inplace=False)\n",
       "    (1): Linear(in_features=9216, out_features=256, bias=True)\n",
       "    (2): ReLU(inplace=True)\n",
       "    (3): Dropout(p=0.5, inplace=False)\n",
       "    (4): Linear(in_features=256, out_features=128, bias=True)\n",
       "    (5): ReLU(inplace=True)\n",
       "    (6): Linear(in_features=128, out_features=1, bias=True)\n",
       "  )\n",
       ")"
      ]
     },
     "execution_count": 11,
     "metadata": {},
     "output_type": "execute_result"
    }
   ],
   "source": [
    "model = models.alexnet(weights=\"IMAGENET1K_V1\")\n",
    "model.classifier = nn.Sequential(\n",
    "    nn.Dropout(p=0.5, inplace=False),\n",
    "    nn.Linear(in_features=9216, out_features=256, bias=True),\n",
    "    nn.ReLU(inplace=True),\n",
    "    nn.Dropout(p=0.5, inplace=False),\n",
    "    nn.Linear(in_features=256, out_features=128, bias=True),\n",
    "    nn.ReLU(inplace=True),\n",
    "    nn.Linear(in_features=128, out_features=1, bias=True),\n",
    ")\n",
    "model.load_state_dict(torch.load(\"./models/alex_net_pk.pth\"))\n",
    "model.to(device)\n",
    "model"
   ]
  },
  {
   "cell_type": "code",
   "execution_count": null,
   "metadata": {},
   "outputs": [],
   "source": [
    "from utils.image_utils import mAlexNet\n",
    "\n",
    "model = mAlexNet()\n",
    "model.to(device)\n",
    "model.load_state_dict(torch.load(\"./models/malex_net_combined_bce.pth\"))\n",
    "model"
   ]
  },
  {
   "cell_type": "code",
   "execution_count": 26,
   "metadata": {},
   "outputs": [
    {
     "name": "stdout",
     "output_type": "stream",
     "text": [
      "tensor([-0.1108, -0.1108, -0.1108, -0.1108, -0.1108, -0.1108, -0.1108, -0.1108,\n",
      "        -0.1108, -0.1108, -0.1108, -0.1108, -0.1108, -0.1108, -0.1108, -0.1108,\n",
      "        -0.1108, -0.1108, -0.1108, -0.1108, -0.1108, -0.1108, -0.1108, -0.1108,\n",
      "        -0.1108, -0.1108, -0.1108, -0.1108, -0.1108, -0.1108, -0.1108, -0.1108],\n",
      "       device='cuda:0', grad_fn=<SqueezeBackward1>)\n",
      "tensor([1, 1, 0, 0, 0, 1, 1, 1, 1, 0, 1, 0, 0, 0, 1, 1, 0, 0, 0, 1, 1, 0, 1, 1,\n",
      "        0, 0, 1, 1, 0, 0, 1, 1], device='cuda:0')\n",
      "22.340538024902344\n",
      "tensor(15, device='cuda:0')\n"
     ]
    }
   ],
   "source": [
    "inputs, labels  = next(iter(dataloaders[\"val\"]))\n",
    "criterion = nn.BCEWithLogitsLoss()\n",
    "#criterion = nn.CrossEntropyLoss()\n",
    "\n",
    "# Define optimizer for nn\n",
    "optimizer = optim.AdamW(model.parameters(),lr=0.001, fused=True)\n",
    "scheduler = lr_scheduler.StepLR(optimizer, step_size=7, gamma=0.1)\n",
    "inputs = inputs.to(device)\n",
    "labels = labels.to(device)\n",
    "running_corrects=0\n",
    "running_loss =0\n",
    "  # zero the parameter gradients\n",
    "optimizer.zero_grad()\n",
    "\n",
    "# forward\n",
    "# track history if only in train\n",
    "with torch.set_grad_enabled(True):\n",
    "        outputs = model(inputs).squeeze(dim=1)\n",
    "        print(outputs)\n",
    "        print(labels)\n",
    "        #_, preds = torch.max(outputs, 1)\n",
    "        #preds = np.where(outputs > 0, 1, 0)\n",
    "        preds = (torch.sigmoid(outputs) > 0.5).float()\n",
    "\n",
    "        loss = criterion(outputs, labels.float())\n",
    "\n",
    "        # backward + optimize only if in training phase\n",
    "        \n",
    "        loss.backward()\n",
    "        optimizer.step()\n",
    "        \n",
    "# statistics\n",
    "running_loss += loss.item() * inputs.size(0)\n",
    "running_corrects += torch.sum(preds == labels.data)\n",
    "\n",
    "scheduler.step()\n",
    "print(running_loss) \n",
    "print(running_corrects) "
   ]
  },
  {
   "cell_type": "code",
   "execution_count": 45,
   "metadata": {},
   "outputs": [
    {
     "name": "stderr",
     "output_type": "stream",
     "text": [
      "100%|██████████| 146/146 [00:26<00:00,  5.45it/s]\n"
     ]
    },
    {
     "data": {
      "text/plain": [
       "tensor(605.8014, device='cuda:0')"
      ]
     },
     "execution_count": 45,
     "metadata": {},
     "output_type": "execute_result"
    }
   ],
   "source": [
    "running_corrects = 0\n",
    "for (inputs, labels) in tqdm(dataloaders_cnr_park[\"val\"]):\n",
    "    \n",
    "    inputs = inputs.to(device)\n",
    "    labels = labels.to(device)\n",
    "    with torch.no_grad():\n",
    "        outputs = model(inputs)\n",
    "        #_, preds = torch.max(outputs, 1)\n",
    "        preds = (torch.sigmoid(outputs) > 0.5).float()\n",
    "        running_corrects += torch.sum(preds == labels.data)\n",
    "\n",
    "      \n",
    "        \n",
    "train_accuracy = running_corrects/ len(dataloaders_cnr_park[\"val\"])\n",
    "train_accuracy"
   ]
  },
  {
   "cell_type": "code",
   "execution_count": 44,
   "metadata": {},
   "outputs": [],
   "source": [
    "torch.save(model.state_dict(), f\"combined_m_alexnet_model.pth\")\n"
   ]
  }
 ],
 "metadata": {
  "kernelspec": {
   "display_name": "parking",
   "language": "python",
   "name": "python3"
  },
  "language_info": {
   "codemirror_mode": {
    "name": "ipython",
    "version": 3
   },
   "file_extension": ".py",
   "mimetype": "text/x-python",
   "name": "python",
   "nbconvert_exporter": "python",
   "pygments_lexer": "ipython3",
   "version": "3.11.5"
  }
 },
 "nbformat": 4,
 "nbformat_minor": 2
}
